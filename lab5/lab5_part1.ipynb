{
 "cells": [
  {
   "cell_type": "code",
   "execution_count": 1,
   "metadata": {},
   "outputs": [
    {
     "name": "stdout",
     "output_type": "stream",
     "text": [
      "['beignets' 'falafel' 'nachos']\n"
     ]
    }
   ],
   "source": [
    "import pathlib\n",
    "import numpy as np\n",
    "\n",
    "# turn our training path into a Python path\n",
    "data_dir = pathlib.Path(\"D:/KNUniversity/4 year/neural networks/food_classes/train/\")\n",
    "\n",
    "# created a list of class_names from the subdirectories\n",
    "class_names = np.array(sorted([item.name for item in data_dir.glob('*')])) \n",
    "print(class_names)"
   ]
  },
  {
   "cell_type": "code",
   "execution_count": 3,
   "metadata": {},
   "outputs": [],
   "source": [
    "import tensorflow as tf\n",
    "from tensorflow.keras.preprocessing.image import ImageDataGenerator\n",
    "\n",
    "# Set the seed\n",
    "tf.random.set_seed(42)\n",
    "\n",
    "# Preprocess data (get all of the pixel values between 1 and 0, also called scaling/normalization)\n",
    "train_datagen = ImageDataGenerator(rescale=1./255)\n",
    "valid_datagen = ImageDataGenerator(rescale=1./255)\n",
    "\n",
    "# Setup the train and test directories\n",
    "train_dir = \"D:/KNUniversity/4 year/neural networks/food_classes/test/\"\n",
    "test_dir = \"D:/KNUniversity/4 year/neural networks/food_classes/train/\""
   ]
  },
  {
   "cell_type": "code",
   "execution_count": 4,
   "metadata": {},
   "outputs": [
    {
     "name": "stdout",
     "output_type": "stream",
     "text": [
      "Found 750 images belonging to 3 classes.\n",
      "Found 225 images belonging to 3 classes.\n"
     ]
    }
   ],
   "source": [
    "# Import data from directories and turn it into batches\n",
    "train_data = train_datagen.flow_from_directory(train_dir,\n",
    "                                               batch_size=32, # number of images to process at a time \n",
    "                                               target_size=(224, 224), # convert all images to be 224 x 224\n",
    "                                               class_mode=\"categorical\", # type of problem we're working on\n",
    "                                               seed=42)\n",
    "\n",
    "valid_data = valid_datagen.flow_from_directory(test_dir,\n",
    "                                               batch_size=32,\n",
    "                                               target_size=(224, 224),\n",
    "                                               class_mode=\"categorical\",\n",
    "                                               seed=42)"
   ]
  },
  {
   "cell_type": "code",
   "execution_count": 5,
   "metadata": {},
   "outputs": [],
   "source": [
    "# Create tensorboard callback (functionized because need to create a new one for each model)\n",
    "import datetime\n",
    "def create_tensorboard_callback(dir_name, experiment_name):\n",
    "  log_dir = dir_name + \"/\" + experiment_name + \"/\" + datetime.datetime.now().strftime(\"%Y%m%d-%H%M%S\")\n",
    "  tensorboard_callback = tf.keras.callbacks.TensorBoard(\n",
    "      log_dir=log_dir\n",
    "  )\n",
    "  print(f\"Saving TensorBoard log files to: {log_dir}\")\n",
    "  return tensorboard_callback"
   ]
  },
  {
   "cell_type": "code",
   "execution_count": 6,
   "metadata": {},
   "outputs": [],
   "source": [
    "import tensorflow_hub as hub"
   ]
  },
  {
   "cell_type": "code",
   "execution_count": 7,
   "metadata": {},
   "outputs": [],
   "source": [
    "resnet_url=\"https://tfhub.dev/google/imagenet/resnet_v1_101/feature_vector/5\"\n",
    "efficientnet_url=\"https://tfhub.dev/tensorflow/efficientnet/b0/feature-vector/1\""
   ]
  },
  {
   "cell_type": "code",
   "execution_count": 8,
   "metadata": {},
   "outputs": [],
   "source": [
    "IMAGE_SHAPE=(224,224)"
   ]
  },
  {
   "cell_type": "code",
   "execution_count": 9,
   "metadata": {},
   "outputs": [],
   "source": [
    "from tensorflow.keras.layers import Conv2D, MaxPool2D,Flatten,Dense\n",
    "\n",
    "def create_BC_model(model_url):\n",
    "  \"\"\"Takes a TensorFlow Hub URL and creates a Keras Sequential model with it.\n",
    "  \n",
    "  Args:\n",
    "    model_url (str): A TensorFlow Hub feature extraction URL.\n",
    "    num_classes (int): Number of output neurons in output layer,\n",
    "      should be equal to number of target classes, default 10.\n",
    "\n",
    "  Returns:\n",
    "    An uncompiled Keras Sequential model with model_url as feature\n",
    "    extractor layer and Dense output layer with num_classes outputs.\n",
    "  \"\"\"\n",
    "  # Download the pretrained model and save it as a Keras layer\n",
    "  feature_extractor_layer = hub.KerasLayer(model_url,\n",
    "                                           trainable=False, # freeze the underlying patterns\n",
    "                                           name='feature_extraction_layer',\n",
    "                                           input_shape=IMAGE_SHAPE+(3,)) # define the input image shape\n",
    "  \n",
    "  # Create our own model\n",
    "  model = tf.keras.Sequential([\n",
    "    feature_extractor_layer, # use the feature extraction layer as the base\n",
    "    Dense(3, activation='softmax', name='output_layer') # create our own output layer      \n",
    "  ])\n",
    "\n",
    "  return model"
   ]
  },
  {
   "cell_type": "code",
   "execution_count": 10,
   "metadata": {},
   "outputs": [],
   "source": [
    "resnet_model= create_BC_model(resnet_url)\n",
    "resnet_model.compile(\n",
    "    loss=\"categorical_crossentropy\", \n",
    "    optimizer=tf.keras.optimizers.Adam(), \n",
    "    metrics=['accuracy']\n",
    ")"
   ]
  },
  {
   "cell_type": "code",
   "execution_count": 11,
   "metadata": {},
   "outputs": [
    {
     "name": "stdout",
     "output_type": "stream",
     "text": [
      "Saving TensorBoard log files to: lab5/resnet/20211125-100942\n",
      "Epoch 1/2\n",
      "24/24 [==============================] - 201s 8s/step - loss: 0.8475 - accuracy: 0.6173 - val_loss: 0.5536 - val_accuracy: 0.8000\n",
      "Epoch 2/2\n",
      "24/24 [==============================] - 198s 8s/step - loss: 0.2957 - accuracy: 0.8880 - val_loss: 0.4538 - val_accuracy: 0.8489\n"
     ]
    },
    {
     "data": {
      "text/plain": [
       "<keras.callbacks.History at 0x241fffc1248>"
      ]
     },
     "execution_count": 11,
     "metadata": {},
     "output_type": "execute_result"
    }
   ],
   "source": [
    "resnet_model.fit(train_data, \n",
    "epochs=2, validation_data=valid_data, \n",
    "callbacks=[create_tensorboard_callback(dir_name=\"lab5\", experiment_name=\"resnet\")]\n",
    ")"
   ]
  },
  {
   "cell_type": "code",
   "execution_count": 12,
   "metadata": {},
   "outputs": [
    {
     "name": "stdout",
     "output_type": "stream",
     "text": [
      "8/8 [==============================] - 44s 6s/step - loss: 0.4538 - accuracy: 0.8489\n"
     ]
    },
    {
     "data": {
      "text/plain": [
       "[0.45383554697036743, 0.8488888740539551]"
      ]
     },
     "execution_count": 12,
     "metadata": {},
     "output_type": "execute_result"
    }
   ],
   "source": [
    "resnet_model.evaluate(valid_data)"
   ]
  },
  {
   "cell_type": "code",
   "execution_count": 43,
   "metadata": {},
   "outputs": [
    {
     "data": {
      "text/plain": [
       "array([2, 2, 2, 2, 1, 0, 2, 2, 1, 2, 1, 1, 2, 2, 0, 1, 0, 0, 2, 0, 0, 0,\n",
       "       2, 0, 0, 0, 0, 1, 2, 0, 1, 1, 2, 0, 1, 0, 1, 0, 0, 0, 2, 2, 1, 2,\n",
       "       2, 1, 0, 1, 1, 1, 1, 1, 2, 1, 2, 0, 1, 0, 2, 2, 2, 1, 0, 2, 1, 2,\n",
       "       2, 1, 2, 0, 0, 2, 1, 0, 0, 2, 1, 2, 0, 2, 0, 2, 1, 0, 1, 0, 1, 1,\n",
       "       0, 2, 2, 2, 2, 2, 1, 0, 0, 1, 2, 1, 2, 1, 1, 0, 0, 2, 0, 2, 0, 1,\n",
       "       2, 1, 1, 1, 2, 2, 1, 0, 0, 2, 0, 0, 1, 1, 2, 2, 0, 0, 1, 2, 2, 0,\n",
       "       1, 2, 0, 0, 0, 0, 2, 2, 0, 2, 1, 1, 2, 1, 2, 1, 1, 2, 1, 0, 2, 2,\n",
       "       1, 0, 0, 0, 2, 1, 0, 2, 0, 2, 0, 1, 0, 1, 0, 2, 2, 1, 1, 2, 2, 2,\n",
       "       2, 2, 0, 0, 2, 2, 2, 0, 0, 1, 0, 2, 1, 2, 0, 0, 0, 1, 2, 0, 0, 1,\n",
       "       0, 2, 2, 1, 2, 0, 2, 0, 1, 0, 0, 0, 1, 2, 2, 0, 0, 0, 2, 2, 2, 2,\n",
       "       0, 2, 0, 0], dtype=int64)"
      ]
     },
     "execution_count": 43,
     "metadata": {},
     "output_type": "execute_result"
    }
   ],
   "source": [
    "resnet_pred_1 = resnet_model.predict(valid_data).argmax(axis=1)\n",
    "resnet_pred_1"
   ]
  },
  {
   "cell_type": "code",
   "execution_count": 58,
   "metadata": {},
   "outputs": [],
   "source": [
    "true_y = []\n",
    "for batch in range(len(valid_data)):\n",
    "    true_y += list(valid_data[batch][-1].argmax(axis=1))"
   ]
  },
  {
   "cell_type": "code",
   "execution_count": 31,
   "metadata": {},
   "outputs": [],
   "source": [
    "from sklearn.metrics import confusion_matrix\n",
    "import pandas as pd"
   ]
  },
  {
   "cell_type": "code",
   "execution_count": 32,
   "metadata": {},
   "outputs": [],
   "source": [
    "def conf_matr(y_pred, y_true):\n",
    "    conf_matrix = pd.DataFrame(confusion_matrix(y_pred=y_pred, y_true=y_true), \n",
    "                            index=class_names, \n",
    "                            columns=class_names)\n",
    "    return conf_matrix"
   ]
  },
  {
   "cell_type": "code",
   "execution_count": 36,
   "metadata": {},
   "outputs": [
    {
     "data": {
      "text/html": [
       "<div>\n",
       "<style scoped>\n",
       "    .dataframe tbody tr th:only-of-type {\n",
       "        vertical-align: middle;\n",
       "    }\n",
       "\n",
       "    .dataframe tbody tr th {\n",
       "        vertical-align: top;\n",
       "    }\n",
       "\n",
       "    .dataframe thead th {\n",
       "        text-align: right;\n",
       "    }\n",
       "</style>\n",
       "<table border=\"1\" class=\"dataframe\">\n",
       "  <thead>\n",
       "    <tr style=\"text-align: right;\">\n",
       "      <th></th>\n",
       "      <th>beignets</th>\n",
       "      <th>falafel</th>\n",
       "      <th>nachos</th>\n",
       "    </tr>\n",
       "  </thead>\n",
       "  <tbody>\n",
       "    <tr>\n",
       "      <td>beignets</td>\n",
       "      <td>23</td>\n",
       "      <td>22</td>\n",
       "      <td>30</td>\n",
       "    </tr>\n",
       "    <tr>\n",
       "      <td>falafel</td>\n",
       "      <td>30</td>\n",
       "      <td>22</td>\n",
       "      <td>22</td>\n",
       "    </tr>\n",
       "    <tr>\n",
       "      <td>nachos</td>\n",
       "      <td>25</td>\n",
       "      <td>18</td>\n",
       "      <td>32</td>\n",
       "    </tr>\n",
       "  </tbody>\n",
       "</table>\n",
       "</div>"
      ],
      "text/plain": [
       "          beignets  falafel  nachos\n",
       "beignets        23       22      30\n",
       "falafel         30       22      22\n",
       "nachos          25       18      32"
      ]
     },
     "execution_count": 36,
     "metadata": {},
     "output_type": "execute_result"
    }
   ],
   "source": [
    "conf_matr(resnet_pred_1, true_y)"
   ]
  },
  {
   "cell_type": "code",
   "execution_count": 52,
   "metadata": {},
   "outputs": [],
   "source": [
    "efficient_model= create_BC_model(efficientnet_url)\n",
    "efficient_model.compile(\n",
    "    loss=\"categorical_crossentropy\", \n",
    "    optimizer=tf.keras.optimizers.Adam(), \n",
    "    metrics=['accuracy']\n",
    ")"
   ]
  },
  {
   "cell_type": "code",
   "execution_count": 56,
   "metadata": {},
   "outputs": [
    {
     "name": "stdout",
     "output_type": "stream",
     "text": [
      "Saving TensorBoard log files to: lab5/efficient/20211125-105323\n",
      "Epoch 1/2\n",
      "24/24 [==============================] - 100s 3s/step - loss: 0.6611 - accuracy: 0.7853 - val_loss: 0.4958 - val_accuracy: 0.8222\n",
      "Epoch 2/2\n",
      "24/24 [==============================] - 61s 3s/step - loss: 0.3112 - accuracy: 0.9213 - val_loss: 0.3690 - val_accuracy: 0.8667\n"
     ]
    },
    {
     "data": {
      "text/plain": [
       "<keras.callbacks.History at 0x241c316ad48>"
      ]
     },
     "execution_count": 56,
     "metadata": {},
     "output_type": "execute_result"
    }
   ],
   "source": [
    "efficient_model.fit(train_data, \n",
    "epochs=2, validation_data=valid_data, \n",
    "callbacks=[create_tensorboard_callback(dir_name=\"lab5\", experiment_name=\"efficient\")]\n",
    ")"
   ]
  },
  {
   "cell_type": "code",
   "execution_count": 57,
   "metadata": {},
   "outputs": [
    {
     "data": {
      "text/plain": [
       "array([1, 0, 1, 0, 0, 0, 2, 1, 2, 0, 1, 0, 2, 2, 0, 0, 2, 2, 0, 0, 0, 2,\n",
       "       1, 2, 2, 1, 2, 0, 2, 1, 2, 0, 2, 0, 0, 2, 0, 2, 0, 0, 2, 0, 0, 0,\n",
       "       2, 0, 0, 1, 2, 0, 1, 1, 2, 2, 2, 2, 0, 1, 2, 1, 1, 0, 2, 0, 1, 0,\n",
       "       2, 2, 1, 1, 0, 2, 2, 1, 2, 0, 0, 1, 1, 2, 1, 2, 0, 0, 0, 2, 0, 2,\n",
       "       0, 0, 1, 2, 0, 0, 0, 0, 0, 2, 2, 0, 0, 2, 2, 2, 2, 2, 1, 1, 0, 0,\n",
       "       1, 2, 2, 0, 0, 2, 1, 1, 2, 2, 2, 0, 2, 0, 0, 2, 1, 0, 1, 2, 2, 2,\n",
       "       1, 2, 0, 0, 2, 0, 0, 2, 0, 0, 1, 2, 0, 2, 0, 2, 0, 2, 2, 1, 2, 1,\n",
       "       1, 0, 1, 0, 0, 2, 2, 1, 1, 2, 1, 2, 1, 2, 0, 2, 1, 1, 1, 2, 1, 0,\n",
       "       1, 0, 1, 2, 1, 0, 1, 1, 1, 2, 0, 2, 0, 0, 2, 0, 1, 2, 2, 2, 1, 2,\n",
       "       0, 2, 2, 2, 1, 2, 0, 2, 1, 1, 1, 0, 2, 1, 2, 1, 2, 1, 2, 0, 1, 1,\n",
       "       0, 0, 2, 0, 2], dtype=int64)"
      ]
     },
     "execution_count": 57,
     "metadata": {},
     "output_type": "execute_result"
    }
   ],
   "source": [
    "efficient_pred_1 = efficient_model.predict(valid_data).argmax(axis=1)\n",
    "efficient_pred_1"
   ]
  },
  {
   "cell_type": "code",
   "execution_count": 59,
   "metadata": {},
   "outputs": [
    {
     "data": {
      "text/html": [
       "<div>\n",
       "<style scoped>\n",
       "    .dataframe tbody tr th:only-of-type {\n",
       "        vertical-align: middle;\n",
       "    }\n",
       "\n",
       "    .dataframe tbody tr th {\n",
       "        vertical-align: top;\n",
       "    }\n",
       "\n",
       "    .dataframe thead th {\n",
       "        text-align: right;\n",
       "    }\n",
       "</style>\n",
       "<table border=\"1\" class=\"dataframe\">\n",
       "  <thead>\n",
       "    <tr style=\"text-align: right;\">\n",
       "      <th></th>\n",
       "      <th>beignets</th>\n",
       "      <th>falafel</th>\n",
       "      <th>nachos</th>\n",
       "    </tr>\n",
       "  </thead>\n",
       "  <tbody>\n",
       "    <tr>\n",
       "      <td>beignets</td>\n",
       "      <td>30</td>\n",
       "      <td>22</td>\n",
       "      <td>23</td>\n",
       "    </tr>\n",
       "    <tr>\n",
       "      <td>falafel</td>\n",
       "      <td>25</td>\n",
       "      <td>20</td>\n",
       "      <td>30</td>\n",
       "    </tr>\n",
       "    <tr>\n",
       "      <td>nachos</td>\n",
       "      <td>24</td>\n",
       "      <td>17</td>\n",
       "      <td>34</td>\n",
       "    </tr>\n",
       "  </tbody>\n",
       "</table>\n",
       "</div>"
      ],
      "text/plain": [
       "          beignets  falafel  nachos\n",
       "beignets        30       22      23\n",
       "falafel         25       20      30\n",
       "nachos          24       17      34"
      ]
     },
     "execution_count": 59,
     "metadata": {},
     "output_type": "execute_result"
    }
   ],
   "source": [
    "conf_matr(efficient_pred_1, true_y)"
   ]
  },
  {
   "cell_type": "code",
   "execution_count": 53,
   "metadata": {},
   "outputs": [],
   "source": [
    "%reload_ext tensorboard"
   ]
  },
  {
   "cell_type": "code",
   "execution_count": 55,
   "metadata": {},
   "outputs": [
    {
     "data": {
      "text/html": [
       "\n",
       "      <iframe id=\"tensorboard-frame-634fc9209d58cb14\" width=\"100%\" height=\"800\" frameborder=\"0\">\n",
       "      </iframe>\n",
       "      <script>\n",
       "        (function() {\n",
       "          const frame = document.getElementById(\"tensorboard-frame-634fc9209d58cb14\");\n",
       "          const url = new URL(\"/\", window.location);\n",
       "          const port = 6006;\n",
       "          if (port) {\n",
       "            url.port = port;\n",
       "          }\n",
       "          frame.src = url;\n",
       "        })();\n",
       "      </script>\n",
       "    "
      ],
      "text/plain": [
       "<IPython.core.display.HTML object>"
      ]
     },
     "metadata": {},
     "output_type": "display_data"
    }
   ],
   "source": [
    "%tensorboard --logdir=lab5/lab5"
   ]
  },
  {
   "cell_type": "code",
   "execution_count": null,
   "metadata": {},
   "outputs": [],
   "source": []
  }
 ],
 "metadata": {
  "interpreter": {
   "hash": "20d4b58220fa4304dcb406620d90c329683b80b0f0306872b7d296e3ded4f8f0"
  },
  "kernelspec": {
   "display_name": "Python 3.7.4 64-bit ('base': conda)",
   "name": "python3"
  },
  "language_info": {
   "codemirror_mode": {
    "name": "ipython",
    "version": 3
   },
   "file_extension": ".py",
   "mimetype": "text/x-python",
   "name": "python",
   "nbconvert_exporter": "python",
   "pygments_lexer": "ipython3",
   "version": "3.7.4"
  },
  "orig_nbformat": 4
 },
 "nbformat": 4,
 "nbformat_minor": 2
}
