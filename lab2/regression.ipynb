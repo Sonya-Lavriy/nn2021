{
 "cells": [
  {
   "cell_type": "markdown",
   "metadata": {},
   "source": [
    "# Лабораторна робота 2"
   ]
  },
  {
   "cell_type": "markdown",
   "metadata": {},
   "source": [
    "## Лаврій Софія, АнД-41"
   ]
  },
  {
   "cell_type": "code",
   "execution_count": 1,
   "metadata": {},
   "outputs": [],
   "source": [
    "from sklearn.datasets import make_regression\n",
    "import pandas as pd\n",
    "import matplotlib.pyplot as plt"
   ]
  },
  {
   "cell_type": "code",
   "execution_count": 9,
   "metadata": {},
   "outputs": [],
   "source": [
    "X, y = make_regression(n_samples=100000, \n",
    "                        n_features=22, \n",
    "                        n_informative=10, \n",
    "                        n_targets=1, \n",
    "                        noise=1.5,\n",
    "                        random_state=2,\n",
    "                        # shuffle=True,\n",
    "                        # coef=True\n",
    "                        )"
   ]
  },
  {
   "cell_type": "markdown",
   "metadata": {},
   "source": [
    "Чомусь при розкоментуванні 2 нижніх параметрів перестає працювати і видає помилку \"too many valuw to unpack (expected 2)\""
   ]
  },
  {
   "cell_type": "code",
   "execution_count": 10,
   "metadata": {},
   "outputs": [
    {
     "data": {
      "text/html": [
       "<div>\n",
       "<style scoped>\n",
       "    .dataframe tbody tr th:only-of-type {\n",
       "        vertical-align: middle;\n",
       "    }\n",
       "\n",
       "    .dataframe tbody tr th {\n",
       "        vertical-align: top;\n",
       "    }\n",
       "\n",
       "    .dataframe thead th {\n",
       "        text-align: right;\n",
       "    }\n",
       "</style>\n",
       "<table border=\"1\" class=\"dataframe\">\n",
       "  <thead>\n",
       "    <tr style=\"text-align: right;\">\n",
       "      <th></th>\n",
       "      <th>0 feature</th>\n",
       "      <th>1 feature</th>\n",
       "      <th>2 feature</th>\n",
       "      <th>3 feature</th>\n",
       "      <th>4 feature</th>\n",
       "      <th>5 feature</th>\n",
       "      <th>6 feature</th>\n",
       "      <th>7 feature</th>\n",
       "      <th>8 feature</th>\n",
       "      <th>9 feature</th>\n",
       "      <th>...</th>\n",
       "      <th>13 feature</th>\n",
       "      <th>14 feature</th>\n",
       "      <th>15 feature</th>\n",
       "      <th>16 feature</th>\n",
       "      <th>17 feature</th>\n",
       "      <th>18 feature</th>\n",
       "      <th>19 feature</th>\n",
       "      <th>20 feature</th>\n",
       "      <th>21 feature</th>\n",
       "      <th>target</th>\n",
       "    </tr>\n",
       "  </thead>\n",
       "  <tbody>\n",
       "    <tr>\n",
       "      <td>0</td>\n",
       "      <td>-0.701956</td>\n",
       "      <td>-0.075633</td>\n",
       "      <td>-0.516213</td>\n",
       "      <td>2.204265</td>\n",
       "      <td>1.297002</td>\n",
       "      <td>-1.487044</td>\n",
       "      <td>1.307235</td>\n",
       "      <td>0.299841</td>\n",
       "      <td>-1.457191</td>\n",
       "      <td>-1.470884</td>\n",
       "      <td>...</td>\n",
       "      <td>-0.344520</td>\n",
       "      <td>1.254184</td>\n",
       "      <td>-1.589355</td>\n",
       "      <td>-1.045580</td>\n",
       "      <td>-0.890536</td>\n",
       "      <td>0.598819</td>\n",
       "      <td>-1.424305</td>\n",
       "      <td>-0.275598</td>\n",
       "      <td>0.495802</td>\n",
       "      <td>202.748703</td>\n",
       "    </tr>\n",
       "    <tr>\n",
       "      <td>1</td>\n",
       "      <td>0.710091</td>\n",
       "      <td>-0.210104</td>\n",
       "      <td>-0.148550</td>\n",
       "      <td>-1.201869</td>\n",
       "      <td>0.501636</td>\n",
       "      <td>0.542591</td>\n",
       "      <td>0.209802</td>\n",
       "      <td>-1.078967</td>\n",
       "      <td>0.489771</td>\n",
       "      <td>0.100848</td>\n",
       "      <td>...</td>\n",
       "      <td>-2.269367</td>\n",
       "      <td>-0.210548</td>\n",
       "      <td>-0.797282</td>\n",
       "      <td>0.277036</td>\n",
       "      <td>-1.961373</td>\n",
       "      <td>0.091474</td>\n",
       "      <td>0.528874</td>\n",
       "      <td>0.253697</td>\n",
       "      <td>0.331207</td>\n",
       "      <td>-69.225089</td>\n",
       "    </tr>\n",
       "    <tr>\n",
       "      <td>2</td>\n",
       "      <td>0.334500</td>\n",
       "      <td>1.975089</td>\n",
       "      <td>-1.447948</td>\n",
       "      <td>-0.207774</td>\n",
       "      <td>-1.405157</td>\n",
       "      <td>0.103752</td>\n",
       "      <td>-0.284840</td>\n",
       "      <td>-0.536655</td>\n",
       "      <td>-0.543604</td>\n",
       "      <td>-1.001108</td>\n",
       "      <td>...</td>\n",
       "      <td>0.282371</td>\n",
       "      <td>1.365168</td>\n",
       "      <td>-0.934760</td>\n",
       "      <td>0.850636</td>\n",
       "      <td>0.615861</td>\n",
       "      <td>0.181491</td>\n",
       "      <td>-1.062753</td>\n",
       "      <td>0.269266</td>\n",
       "      <td>0.407387</td>\n",
       "      <td>-49.960601</td>\n",
       "    </tr>\n",
       "    <tr>\n",
       "      <td>3</td>\n",
       "      <td>-0.423266</td>\n",
       "      <td>-0.471356</td>\n",
       "      <td>0.602268</td>\n",
       "      <td>-1.257491</td>\n",
       "      <td>-0.553590</td>\n",
       "      <td>2.084704</td>\n",
       "      <td>-0.020765</td>\n",
       "      <td>0.607145</td>\n",
       "      <td>-0.378740</td>\n",
       "      <td>0.495780</td>\n",
       "      <td>...</td>\n",
       "      <td>1.728298</td>\n",
       "      <td>0.707498</td>\n",
       "      <td>-0.872445</td>\n",
       "      <td>1.293627</td>\n",
       "      <td>0.989215</td>\n",
       "      <td>0.307916</td>\n",
       "      <td>1.972701</td>\n",
       "      <td>-0.391022</td>\n",
       "      <td>-0.108485</td>\n",
       "      <td>238.741804</td>\n",
       "    </tr>\n",
       "    <tr>\n",
       "      <td>4</td>\n",
       "      <td>0.792349</td>\n",
       "      <td>1.367344</td>\n",
       "      <td>-2.038629</td>\n",
       "      <td>-0.576776</td>\n",
       "      <td>0.381103</td>\n",
       "      <td>-1.393307</td>\n",
       "      <td>1.827168</td>\n",
       "      <td>-0.253450</td>\n",
       "      <td>0.523090</td>\n",
       "      <td>-0.645539</td>\n",
       "      <td>...</td>\n",
       "      <td>-0.231770</td>\n",
       "      <td>-0.155649</td>\n",
       "      <td>-0.386534</td>\n",
       "      <td>-0.811130</td>\n",
       "      <td>1.010841</td>\n",
       "      <td>0.518727</td>\n",
       "      <td>0.950402</td>\n",
       "      <td>-0.741059</td>\n",
       "      <td>-0.140243</td>\n",
       "      <td>-119.064607</td>\n",
       "    </tr>\n",
       "    <tr>\n",
       "      <td>...</td>\n",
       "      <td>...</td>\n",
       "      <td>...</td>\n",
       "      <td>...</td>\n",
       "      <td>...</td>\n",
       "      <td>...</td>\n",
       "      <td>...</td>\n",
       "      <td>...</td>\n",
       "      <td>...</td>\n",
       "      <td>...</td>\n",
       "      <td>...</td>\n",
       "      <td>...</td>\n",
       "      <td>...</td>\n",
       "      <td>...</td>\n",
       "      <td>...</td>\n",
       "      <td>...</td>\n",
       "      <td>...</td>\n",
       "      <td>...</td>\n",
       "      <td>...</td>\n",
       "      <td>...</td>\n",
       "      <td>...</td>\n",
       "      <td>...</td>\n",
       "    </tr>\n",
       "    <tr>\n",
       "      <td>99995</td>\n",
       "      <td>-1.080991</td>\n",
       "      <td>-1.882041</td>\n",
       "      <td>-0.203722</td>\n",
       "      <td>-0.162396</td>\n",
       "      <td>1.042212</td>\n",
       "      <td>-1.120999</td>\n",
       "      <td>0.547368</td>\n",
       "      <td>-1.596359</td>\n",
       "      <td>1.919576</td>\n",
       "      <td>1.349965</td>\n",
       "      <td>...</td>\n",
       "      <td>-1.488272</td>\n",
       "      <td>0.853147</td>\n",
       "      <td>-0.326654</td>\n",
       "      <td>0.564082</td>\n",
       "      <td>0.455699</td>\n",
       "      <td>-0.919436</td>\n",
       "      <td>-1.376226</td>\n",
       "      <td>0.776123</td>\n",
       "      <td>-0.030445</td>\n",
       "      <td>-79.277781</td>\n",
       "    </tr>\n",
       "    <tr>\n",
       "      <td>99996</td>\n",
       "      <td>-0.215370</td>\n",
       "      <td>-0.231347</td>\n",
       "      <td>1.539035</td>\n",
       "      <td>0.504656</td>\n",
       "      <td>0.509592</td>\n",
       "      <td>-0.682138</td>\n",
       "      <td>-1.051651</td>\n",
       "      <td>0.889230</td>\n",
       "      <td>-0.001221</td>\n",
       "      <td>-0.701495</td>\n",
       "      <td>...</td>\n",
       "      <td>0.946032</td>\n",
       "      <td>0.772746</td>\n",
       "      <td>-1.078161</td>\n",
       "      <td>0.504767</td>\n",
       "      <td>-0.974993</td>\n",
       "      <td>-1.229306</td>\n",
       "      <td>-1.140170</td>\n",
       "      <td>2.219410</td>\n",
       "      <td>1.641109</td>\n",
       "      <td>173.134118</td>\n",
       "    </tr>\n",
       "    <tr>\n",
       "      <td>99997</td>\n",
       "      <td>1.565757</td>\n",
       "      <td>1.321332</td>\n",
       "      <td>-0.723779</td>\n",
       "      <td>-2.240217</td>\n",
       "      <td>-1.647518</td>\n",
       "      <td>0.284488</td>\n",
       "      <td>-1.862510</td>\n",
       "      <td>-1.091775</td>\n",
       "      <td>-1.117446</td>\n",
       "      <td>0.286250</td>\n",
       "      <td>...</td>\n",
       "      <td>0.641764</td>\n",
       "      <td>0.735795</td>\n",
       "      <td>-1.686252</td>\n",
       "      <td>-0.714434</td>\n",
       "      <td>-1.440457</td>\n",
       "      <td>-0.302896</td>\n",
       "      <td>-0.733497</td>\n",
       "      <td>-0.131185</td>\n",
       "      <td>-0.385257</td>\n",
       "      <td>-117.276068</td>\n",
       "    </tr>\n",
       "    <tr>\n",
       "      <td>99998</td>\n",
       "      <td>0.569706</td>\n",
       "      <td>0.667942</td>\n",
       "      <td>-1.122753</td>\n",
       "      <td>0.430195</td>\n",
       "      <td>-0.917308</td>\n",
       "      <td>1.200591</td>\n",
       "      <td>-1.226303</td>\n",
       "      <td>0.531764</td>\n",
       "      <td>0.638691</td>\n",
       "      <td>2.241185</td>\n",
       "      <td>...</td>\n",
       "      <td>0.909044</td>\n",
       "      <td>1.527823</td>\n",
       "      <td>0.134112</td>\n",
       "      <td>0.272637</td>\n",
       "      <td>1.337396</td>\n",
       "      <td>0.739772</td>\n",
       "      <td>-1.057222</td>\n",
       "      <td>0.146524</td>\n",
       "      <td>-0.201149</td>\n",
       "      <td>254.701573</td>\n",
       "    </tr>\n",
       "    <tr>\n",
       "      <td>99999</td>\n",
       "      <td>0.646776</td>\n",
       "      <td>-0.965014</td>\n",
       "      <td>-1.829315</td>\n",
       "      <td>-0.499807</td>\n",
       "      <td>0.114587</td>\n",
       "      <td>0.315327</td>\n",
       "      <td>1.042308</td>\n",
       "      <td>0.749594</td>\n",
       "      <td>0.291680</td>\n",
       "      <td>-1.906558</td>\n",
       "      <td>...</td>\n",
       "      <td>-1.130601</td>\n",
       "      <td>1.097401</td>\n",
       "      <td>0.765862</td>\n",
       "      <td>0.085261</td>\n",
       "      <td>-1.172972</td>\n",
       "      <td>1.193117</td>\n",
       "      <td>0.300052</td>\n",
       "      <td>0.886197</td>\n",
       "      <td>-2.170072</td>\n",
       "      <td>65.314542</td>\n",
       "    </tr>\n",
       "  </tbody>\n",
       "</table>\n",
       "<p>100000 rows × 23 columns</p>\n",
       "</div>"
      ],
      "text/plain": [
       "       0 feature  1 feature  2 feature  3 feature  4 feature  5 feature  \\\n",
       "0      -0.701956  -0.075633  -0.516213   2.204265   1.297002  -1.487044   \n",
       "1       0.710091  -0.210104  -0.148550  -1.201869   0.501636   0.542591   \n",
       "2       0.334500   1.975089  -1.447948  -0.207774  -1.405157   0.103752   \n",
       "3      -0.423266  -0.471356   0.602268  -1.257491  -0.553590   2.084704   \n",
       "4       0.792349   1.367344  -2.038629  -0.576776   0.381103  -1.393307   \n",
       "...          ...        ...        ...        ...        ...        ...   \n",
       "99995  -1.080991  -1.882041  -0.203722  -0.162396   1.042212  -1.120999   \n",
       "99996  -0.215370  -0.231347   1.539035   0.504656   0.509592  -0.682138   \n",
       "99997   1.565757   1.321332  -0.723779  -2.240217  -1.647518   0.284488   \n",
       "99998   0.569706   0.667942  -1.122753   0.430195  -0.917308   1.200591   \n",
       "99999   0.646776  -0.965014  -1.829315  -0.499807   0.114587   0.315327   \n",
       "\n",
       "       6 feature  7 feature  8 feature  9 feature  ...  13 feature  \\\n",
       "0       1.307235   0.299841  -1.457191  -1.470884  ...   -0.344520   \n",
       "1       0.209802  -1.078967   0.489771   0.100848  ...   -2.269367   \n",
       "2      -0.284840  -0.536655  -0.543604  -1.001108  ...    0.282371   \n",
       "3      -0.020765   0.607145  -0.378740   0.495780  ...    1.728298   \n",
       "4       1.827168  -0.253450   0.523090  -0.645539  ...   -0.231770   \n",
       "...          ...        ...        ...        ...  ...         ...   \n",
       "99995   0.547368  -1.596359   1.919576   1.349965  ...   -1.488272   \n",
       "99996  -1.051651   0.889230  -0.001221  -0.701495  ...    0.946032   \n",
       "99997  -1.862510  -1.091775  -1.117446   0.286250  ...    0.641764   \n",
       "99998  -1.226303   0.531764   0.638691   2.241185  ...    0.909044   \n",
       "99999   1.042308   0.749594   0.291680  -1.906558  ...   -1.130601   \n",
       "\n",
       "       14 feature  15 feature  16 feature  17 feature  18 feature  19 feature  \\\n",
       "0        1.254184   -1.589355   -1.045580   -0.890536    0.598819   -1.424305   \n",
       "1       -0.210548   -0.797282    0.277036   -1.961373    0.091474    0.528874   \n",
       "2        1.365168   -0.934760    0.850636    0.615861    0.181491   -1.062753   \n",
       "3        0.707498   -0.872445    1.293627    0.989215    0.307916    1.972701   \n",
       "4       -0.155649   -0.386534   -0.811130    1.010841    0.518727    0.950402   \n",
       "...           ...         ...         ...         ...         ...         ...   \n",
       "99995    0.853147   -0.326654    0.564082    0.455699   -0.919436   -1.376226   \n",
       "99996    0.772746   -1.078161    0.504767   -0.974993   -1.229306   -1.140170   \n",
       "99997    0.735795   -1.686252   -0.714434   -1.440457   -0.302896   -0.733497   \n",
       "99998    1.527823    0.134112    0.272637    1.337396    0.739772   -1.057222   \n",
       "99999    1.097401    0.765862    0.085261   -1.172972    1.193117    0.300052   \n",
       "\n",
       "       20 feature  21 feature      target  \n",
       "0       -0.275598    0.495802  202.748703  \n",
       "1        0.253697    0.331207  -69.225089  \n",
       "2        0.269266    0.407387  -49.960601  \n",
       "3       -0.391022   -0.108485  238.741804  \n",
       "4       -0.741059   -0.140243 -119.064607  \n",
       "...           ...         ...         ...  \n",
       "99995    0.776123   -0.030445  -79.277781  \n",
       "99996    2.219410    1.641109  173.134118  \n",
       "99997   -0.131185   -0.385257 -117.276068  \n",
       "99998    0.146524   -0.201149  254.701573  \n",
       "99999    0.886197   -2.170072   65.314542  \n",
       "\n",
       "[100000 rows x 23 columns]"
      ]
     },
     "execution_count": 10,
     "metadata": {},
     "output_type": "execute_result"
    }
   ],
   "source": [
    "df = pd.DataFrame(X, columns=[str(i)+' feature' for i in range(0, X.shape[1])])\n",
    "df['target']=y\n",
    "df"
   ]
  },
  {
   "cell_type": "code",
   "execution_count": 11,
   "metadata": {},
   "outputs": [],
   "source": [
    "# df.to_csv('regression.csv')"
   ]
  },
  {
   "cell_type": "code",
   "execution_count": 12,
   "metadata": {},
   "outputs": [],
   "source": [
    "from tensorflow.keras import Sequential\n",
    "from tensorflow.keras.layers import Dense\n",
    "from tensorflow.keras.losses import mae ,mse\n",
    "from tensorflow.keras.optimizers import SGD, Adam\n",
    "import tensorflow as tf"
   ]
  },
  {
   "cell_type": "markdown",
   "metadata": {},
   "source": [
    "## First and second models"
   ]
  },
  {
   "cell_type": "markdown",
   "metadata": {},
   "source": [
    "#### 3 layers: 100 neurons, 50 neurons, 1 neuron"
   ]
  },
  {
   "cell_type": "code",
   "execution_count": 13,
   "metadata": {},
   "outputs": [],
   "source": [
    "model = Sequential([\n",
    "    Dense(100), \n",
    "    Dense(50),\n",
    "    Dense(1)\n",
    "]\n",
    ") "
   ]
  },
  {
   "cell_type": "code",
   "execution_count": 14,
   "metadata": {},
   "outputs": [
    {
     "name": "stdout",
     "output_type": "stream",
     "text": [
      "Epoch 1/10\n",
      "391/391 [==============================] - 2s 2ms/step - loss: 33.1403 - mean_absolute_error: 33.1403 - mean_squared_error: 5045.5630\n",
      "Epoch 2/10\n",
      "391/391 [==============================] - 1s 2ms/step - loss: 7.8917 - mean_absolute_error: 7.8917 - mean_squared_error: 106.3250\n",
      "Epoch 3/10\n",
      "391/391 [==============================] - 1s 2ms/step - loss: 7.8712 - mean_absolute_error: 7.8712 - mean_squared_error: 105.2604\n",
      "Epoch 4/10\n",
      "391/391 [==============================] - 1s 2ms/step - loss: 7.8459 - mean_absolute_error: 7.8459 - mean_squared_error: 105.7864\n",
      "Epoch 5/10\n",
      "391/391 [==============================] - 1s 2ms/step - loss: 7.8608 - mean_absolute_error: 7.8608 - mean_squared_error: 105.7418\n",
      "Epoch 6/10\n",
      "391/391 [==============================] - 1s 3ms/step - loss: 7.8738 - mean_absolute_error: 7.8738 - mean_squared_error: 105.7172\n",
      "Epoch 7/10\n",
      "391/391 [==============================] - 1s 3ms/step - loss: 7.8876 - mean_absolute_error: 7.8876 - mean_squared_error: 106.1177\n",
      "Epoch 8/10\n",
      "391/391 [==============================] - 1s 2ms/step - loss: 7.8837 - mean_absolute_error: 7.8837 - mean_squared_error: 106.4580\n",
      "Epoch 9/10\n",
      "391/391 [==============================] - 1s 2ms/step - loss: 7.8699 - mean_absolute_error: 7.8699 - mean_squared_error: 106.1664\n",
      "Epoch 10/10\n",
      "391/391 [==============================] - 1s 2ms/step - loss: 7.8561 - mean_absolute_error: 7.8561 - mean_squared_error: 106.2937\n"
     ]
    }
   ],
   "source": [
    "model.compile(\n",
    "    loss=mae, \n",
    "    optimizer=SGD(), \n",
    "    metrics=[mae,mse]\n",
    ")\n",
    "\n",
    "first_model = model.fit(X, y, batch_size=256, epochs=10)"
   ]
  },
  {
   "cell_type": "code",
   "execution_count": 15,
   "metadata": {},
   "outputs": [],
   "source": [
    "rows = len(df)\n",
    "x_test = X[int(rows*0.8):]\n",
    "y_test = y[int(rows*0.8):]\n",
    "x_train = X[:int(rows*0.8)]  \n",
    "y_train = y[:int(rows*0.8)]"
   ]
  },
  {
   "cell_type": "code",
   "execution_count": 16,
   "metadata": {},
   "outputs": [],
   "source": [
    "y_pred = model.predict(x_test)"
   ]
  },
  {
   "cell_type": "code",
   "execution_count": 17,
   "metadata": {},
   "outputs": [
    {
     "data": {
      "text/plain": [
       "Text(0.5, 1.0, 'First model')"
      ]
     },
     "execution_count": 17,
     "metadata": {},
     "output_type": "execute_result"
    },
    {
     "data": {
      "image/png": "[encoded data removed]",
      "text/plain": [
       "<Figure size 576x360 with 1 Axes>"
      ]
     },
     "metadata": {
      "needs_background": "light"
     },
     "output_type": "display_data"
    }
   ],
   "source": [
    "plt.figure(figsize=(8, 5))\n",
    "plt.scatter(range(0, 10), y_test[:10], label='true y')\n",
    "plt.scatter(range(0, 10), y_pred[:10], label='pridection y')\n",
    "plt.legend()\n",
    "plt.title('First model')"
   ]
  },
  {
   "cell_type": "code",
   "execution_count": 18,
   "metadata": {},
   "outputs": [
    {
     "data": {
      "text/plain": [
       "Text(0.5, 1.0, 'First model')"
      ]
     },
     "execution_count": 18,
     "metadata": {},
     "output_type": "execute_result"
    },
    {
     "data": {
      "image/png": "[encoded data removed]",
      "text/plain": [
       "<Figure size 576x432 with 1 Axes>"
      ]
     },
     "metadata": {
      "needs_background": "light"
     },
     "output_type": "display_data"
    }
   ],
   "source": [
    "plt.figure(figsize=(8, 6))\n",
    "plt.plot(range(0, 20), y_test[:20], label='true y')\n",
    "plt.plot(range(0, 20), y_pred[:20], label='pridection y')\n",
    "plt.legend()\n",
    "plt.title('First model')"
   ]
  },
  {
   "cell_type": "code",
   "execution_count": 19,
   "metadata": {},
   "outputs": [
    {
     "name": "stdout",
     "output_type": "stream",
     "text": [
      "First model prediction: [70.48719]\n",
      "True value: [65.31454167]\n"
     ]
    }
   ],
   "source": [
    "print('First model prediction: {}'.format(y_pred[-1:][0]))\n",
    "print('True value: {}'.format(y_test[-1:]))"
   ]
  },
  {
   "cell_type": "code",
   "execution_count": 20,
   "metadata": {},
   "outputs": [
    {
     "name": "stdout",
     "output_type": "stream",
     "text": [
      "Epoch 1/10\n",
      "313/313 [==============================] - 2s 5ms/step - loss: 7.8257 - mean_absolute_error: 7.8257 - mean_squared_error: 105.2888 - val_loss: 10.4467 - val_mean_absolute_error: 10.4467 - val_mean_squared_error: 171.0238\n",
      "Epoch 2/10\n",
      "313/313 [==============================] - 1s 3ms/step - loss: 7.9147 - mean_absolute_error: 7.9147 - mean_squared_error: 106.9125 - val_loss: 6.5752 - val_mean_absolute_error: 6.5752 - val_mean_squared_error: 67.5046\n",
      "Epoch 3/10\n",
      "313/313 [==============================] - 1s 3ms/step - loss: 7.8843 - mean_absolute_error: 7.8843 - mean_squared_error: 105.6154 - val_loss: 10.8889 - val_mean_absolute_error: 10.8889 - val_mean_squared_error: 186.2257\n",
      "Epoch 4/10\n",
      "313/313 [==============================] - 1s 3ms/step - loss: 7.8664 - mean_absolute_error: 7.8664 - mean_squared_error: 105.3875 - val_loss: 6.3906 - val_mean_absolute_error: 6.3906 - val_mean_squared_error: 64.1922\n",
      "Epoch 5/10\n",
      "313/313 [==============================] - 1s 3ms/step - loss: 7.8486 - mean_absolute_error: 7.8486 - mean_squared_error: 105.4518 - val_loss: 10.9225 - val_mean_absolute_error: 10.9225 - val_mean_squared_error: 188.2287\n",
      "Epoch 6/10\n",
      "313/313 [==============================] - 1s 3ms/step - loss: 7.8722 - mean_absolute_error: 7.8722 - mean_squared_error: 105.6799 - val_loss: 5.7760 - val_mean_absolute_error: 5.7760 - val_mean_squared_error: 52.3522\n",
      "Epoch 7/10\n",
      "313/313 [==============================] - 1s 3ms/step - loss: 7.8486 - mean_absolute_error: 7.8486 - mean_squared_error: 105.4666 - val_loss: 10.9051 - val_mean_absolute_error: 10.9051 - val_mean_squared_error: 186.9012\n",
      "Epoch 8/10\n",
      "313/313 [==============================] - 1s 3ms/step - loss: 7.8473 - mean_absolute_error: 7.8473 - mean_squared_error: 105.3962 - val_loss: 5.7855 - val_mean_absolute_error: 5.7855 - val_mean_squared_error: 52.4445\n",
      "Epoch 9/10\n",
      "313/313 [==============================] - 1s 3ms/step - loss: 7.8630 - mean_absolute_error: 7.8630 - mean_squared_error: 106.4625 - val_loss: 8.3614 - val_mean_absolute_error: 8.3614 - val_mean_squared_error: 110.3856\n",
      "Epoch 10/10\n",
      "313/313 [==============================] - 1s 3ms/step - loss: 7.8486 - mean_absolute_error: 7.8486 - mean_squared_error: 106.3320 - val_loss: 5.7595 - val_mean_absolute_error: 5.7595 - val_mean_squared_error: 52.2679\n"
     ]
    }
   ],
   "source": [
    "model2 = model\n",
    "\n",
    "model2.compile(\n",
    "    loss=mae, \n",
    "    optimizer=SGD(), \n",
    "    metrics=[mae,mse]\n",
    ")\n",
    "\n",
    "second_model = model2.fit(x_train,y_train, \n",
    "           validation_data=(x_test,y_test), \n",
    "           batch_size=256,\n",
    "           epochs=10)"
   ]
  },
  {
   "cell_type": "code",
   "execution_count": 21,
   "metadata": {},
   "outputs": [],
   "source": [
    "y_pred2 = model2.predict(x_test)"
   ]
  },
  {
   "cell_type": "code",
   "execution_count": 22,
   "metadata": {},
   "outputs": [
    {
     "data": {
      "text/plain": [
       "Text(0.5, 1.0, 'Comparison first and second model')"
      ]
     },
     "execution_count": 22,
     "metadata": {},
     "output_type": "execute_result"
    },
    {
     "data": {
      "image/png": "[encoded data removed]",
      "text/plain": [
       "<Figure size 576x360 with 1 Axes>"
      ]
     },
     "metadata": {
      "needs_background": "light"
     },
     "output_type": "display_data"
    }
   ],
   "source": [
    "plt.figure(figsize=(8, 5))\n",
    "plt.scatter(range(0, 10), y_test[:10], label='true y')\n",
    "plt.scatter(range(0,10), y_pred[:10], label='predicted y by 1 model')\n",
    "plt.scatter(range(0,10), y_pred2[:10], label='predicted y by 2 model')\n",
    "plt.legend()\n",
    "plt.title(\"Comparison first and second model\")"
   ]
  },
  {
   "cell_type": "code",
   "execution_count": 23,
   "metadata": {},
   "outputs": [
    {
     "data": {
      "text/plain": [
       "Text(0.5, 1.0, 'Comparison first and second model')"
      ]
     },
     "execution_count": 23,
     "metadata": {},
     "output_type": "execute_result"
    },
    {
     "data": {
      "image/png": "[encoded data removed]",
      "text/plain": [
       "<Figure size 576x360 with 1 Axes>"
      ]
     },
     "metadata": {
      "needs_background": "light"
     },
     "output_type": "display_data"
    }
   ],
   "source": [
    "plt.figure(figsize=(8, 5))\n",
    "plt.plot(range(0, 10), y_test[:10], label='true y')\n",
    "plt.plot(range(0,10), y_pred[:10], label='predicted y by 1 model')\n",
    "plt.plot(range(0,10), y_pred2[:10], label='predicted y by 2 model')\n",
    "plt.legend()\n",
    "plt.title(\"Comparison first and second model\")"
   ]
  },
  {
   "cell_type": "code",
   "execution_count": 24,
   "metadata": {},
   "outputs": [
    {
     "name": "stdout",
     "output_type": "stream",
     "text": [
      "First model prediction: [70.48719]\n",
      "Second model prediction: [64.090576]\n",
      "True value: [65.31454167]\n"
     ]
    }
   ],
   "source": [
    "print('First model prediction: {}'.format(y_pred[-1:][0]))\n",
    "print('Second model prediction: {}'.format(y_pred2[-1:][0]))\n",
    "print('True value: {}'.format(y_test[-1:]))"
   ]
  },
  {
   "cell_type": "markdown",
   "metadata": {},
   "source": [
    "## Third and fourth model"
   ]
  },
  {
   "cell_type": "markdown",
   "metadata": {},
   "source": [
    "#### 2 layers: 11 neurons, 1 neuron"
   ]
  },
  {
   "cell_type": "code",
   "execution_count": 25,
   "metadata": {},
   "outputs": [],
   "source": [
    "model3 = Sequential([\n",
    "    Dense(10),\n",
    "    Dense(1)\n",
    "])\n",
    "\n",
    "model3.compile(\n",
    "    optimizer=Adam(),\n",
    "    loss='mse',\n",
    "    metrics=['mse', 'mae']\n",
    ")"
   ]
  },
  {
   "cell_type": "code",
   "execution_count": 26,
   "metadata": {},
   "outputs": [
    {
     "name": "stdout",
     "output_type": "stream",
     "text": [
      "Epoch 1/10\n",
      "391/391 [==============================] - 1s 2ms/step - loss: 24074.2500 - mse: 24074.2500 - mae: 123.6913\n",
      "Epoch 2/10\n",
      "391/391 [==============================] - 1s 2ms/step - loss: 19072.8672 - mse: 19072.8672 - mae: 109.9531\n",
      "Epoch 3/10\n",
      "391/391 [==============================] - 1s 2ms/step - loss: 11901.0547 - mse: 11901.0547 - mae: 86.6745\n",
      "Epoch 4/10\n",
      "391/391 [==============================] - 1s 2ms/step - loss: 5997.4102 - mse: 5997.4102 - mae: 61.4108\n",
      "Epoch 5/10\n",
      "391/391 [==============================] - 1s 2ms/step - loss: 2492.8267 - mse: 2492.8267 - mae: 39.4650\n",
      "Epoch 6/10\n",
      "391/391 [==============================] - 1s 2ms/step - loss: 856.0377 - mse: 856.0377 - mae: 23.0511\n",
      "Epoch 7/10\n",
      "391/391 [==============================] - 1s 2ms/step - loss: 240.3659 - mse: 240.3659 - mae: 12.1331\n",
      "Epoch 8/10\n",
      "391/391 [==============================] - 1s 2ms/step - loss: 58.5170 - mse: 58.5170 - mae: 5.9768\n",
      "Epoch 9/10\n",
      "391/391 [==============================] - 1s 2ms/step - loss: 14.1584 - mse: 14.1584 - mae: 2.9443\n",
      "Epoch 10/10\n",
      "391/391 [==============================] - 1s 2ms/step - loss: 4.3839 - mse: 4.3839 - mae: 1.6564\n"
     ]
    }
   ],
   "source": [
    "third_model = model3.fit(X, y, batch_size=256, epochs=10)"
   ]
  },
  {
   "cell_type": "code",
   "execution_count": 27,
   "metadata": {},
   "outputs": [],
   "source": [
    "y_pred3 = model3.predict(x_test)"
   ]
  },
  {
   "cell_type": "code",
   "execution_count": 28,
   "metadata": {},
   "outputs": [
    {
     "data": {
      "text/plain": [
       "Text(0.5, 1.0, 'Third model')"
      ]
     },
     "execution_count": 28,
     "metadata": {},
     "output_type": "execute_result"
    },
    {
     "data": {
      "image/png": "[encoded data removed]",
      "text/plain": [
       "<Figure size 576x360 with 1 Axes>"
      ]
     },
     "metadata": {
      "needs_background": "light"
     },
     "output_type": "display_data"
    }
   ],
   "source": [
    "plt.figure(figsize=(8, 5))\n",
    "plt.plot(range(0, 20), y_test[:20], label='true y')\n",
    "plt.plot(range(0, 20), y_pred3[:20], label='prediction y')\n",
    "plt.legend ()\n",
    "plt.title(\"Third model\")"
   ]
  },
  {
   "cell_type": "code",
   "execution_count": 29,
   "metadata": {},
   "outputs": [
    {
     "name": "stdout",
     "output_type": "stream",
     "text": [
      "Third model prediction: [63.5173]\n",
      "True value: [65.31454167]\n"
     ]
    }
   ],
   "source": [
    "print('Third model prediction: {}'.format(y_pred3[-1:][0]))\n",
    "print('True value: {}'.format(y_test[-1:]))"
   ]
  },
  {
   "cell_type": "code",
   "execution_count": 30,
   "metadata": {},
   "outputs": [],
   "source": [
    "model4 = model3\n",
    "\n",
    "model4.compile(\n",
    "    optimizer=Adam(),\n",
    "    loss='mse',\n",
    "    metrics=['mse', 'mae']\n",
    ")"
   ]
  },
  {
   "cell_type": "code",
   "execution_count": 31,
   "metadata": {},
   "outputs": [
    {
     "name": "stdout",
     "output_type": "stream",
     "text": [
      "Epoch 1/10\n",
      "313/313 [==============================] - 1s 3ms/step - loss: 2.2798 - mse: 2.2798 - mae: 1.2035 - val_loss: 2.2926 - val_mse: 2.2926 - val_mae: 1.2095\n",
      "Epoch 2/10\n",
      "313/313 [==============================] - 1s 2ms/step - loss: 2.2651 - mse: 2.2651 - mae: 1.1997 - val_loss: 2.3182 - val_mse: 2.3182 - val_mae: 1.2154\n",
      "Epoch 3/10\n",
      "313/313 [==============================] - 1s 2ms/step - loss: 2.2666 - mse: 2.2666 - mae: 1.2001 - val_loss: 2.3023 - val_mse: 2.3023 - val_mae: 1.2125\n",
      "Epoch 4/10\n",
      "313/313 [==============================] - 1s 2ms/step - loss: 2.2669 - mse: 2.2669 - mae: 1.2001 - val_loss: 2.3217 - val_mse: 2.3217 - val_mae: 1.2169\n",
      "Epoch 5/10\n",
      "313/313 [==============================] - 1s 2ms/step - loss: 2.2701 - mse: 2.2701 - mae: 1.2011 - val_loss: 2.3045 - val_mse: 2.3045 - val_mae: 1.2121\n",
      "Epoch 6/10\n",
      "313/313 [==============================] - 1s 2ms/step - loss: 2.2646 - mse: 2.2646 - mae: 1.1998 - val_loss: 2.3078 - val_mse: 2.3078 - val_mae: 1.2146\n",
      "Epoch 7/10\n",
      "313/313 [==============================] - 1s 2ms/step - loss: 2.2649 - mse: 2.2649 - mae: 1.2000 - val_loss: 2.2952 - val_mse: 2.2952 - val_mae: 1.2099\n",
      "Epoch 8/10\n",
      "313/313 [==============================] - 1s 2ms/step - loss: 2.2650 - mse: 2.2650 - mae: 1.2000 - val_loss: 2.3103 - val_mse: 2.3103 - val_mae: 1.2134\n",
      "Epoch 9/10\n",
      "313/313 [==============================] - 1s 2ms/step - loss: 2.2677 - mse: 2.2677 - mae: 1.2009 - val_loss: 2.2799 - val_mse: 2.2799 - val_mae: 1.2055\n",
      "Epoch 10/10\n",
      "313/313 [==============================] - 1s 2ms/step - loss: 2.2646 - mse: 2.2646 - mae: 1.1996 - val_loss: 2.2862 - val_mse: 2.2862 - val_mae: 1.2069\n"
     ]
    }
   ],
   "source": [
    "fourth_model = model4.fit(x_train, y_train, validation_data=(x_test, y_test), batch_size=256, epochs=10)"
   ]
  },
  {
   "cell_type": "code",
   "execution_count": 32,
   "metadata": {},
   "outputs": [],
   "source": [
    "y_pred4 = model4.predict(x_test)"
   ]
  },
  {
   "cell_type": "code",
   "execution_count": 33,
   "metadata": {},
   "outputs": [
    {
     "data": {
      "text/plain": [
       "Text(0.5, 1.0, 'Fourth model')"
      ]
     },
     "execution_count": 33,
     "metadata": {},
     "output_type": "execute_result"
    },
    {
     "data": {
      "image/png": "[encoded data removed]",
      "text/plain": [
       "<Figure size 576x360 with 1 Axes>"
      ]
     },
     "metadata": {
      "needs_background": "light"
     },
     "output_type": "display_data"
    }
   ],
   "source": [
    "plt.figure(figsize=(8, 5))\n",
    "plt.plot(range(0, 20), y_test[:20], label='true y')\n",
    "plt.plot(range(0, 20), y_pred4[:20], label='prediction y')\n",
    "plt.legend ()\n",
    "plt.title('Fourth model')"
   ]
  },
  {
   "cell_type": "code",
   "execution_count": 35,
   "metadata": {},
   "outputs": [
    {
     "name": "stdout",
     "output_type": "stream",
     "text": [
      "Third model prediction: [63.5173]\n",
      "Fourth model prediction: [63.96561]\n",
      "True value: [65.31454167]\n"
     ]
    }
   ],
   "source": [
    "print('Third model prediction: {}'.format(y_pred3[-1:][0]))\n",
    "print('Fourth model prediction: {}'.format(y_pred4[-1:][0]))\n",
    "print('True value: {}'.format(y_test[-1:]))"
   ]
  },
  {
   "cell_type": "markdown",
   "metadata": {},
   "source": [
    "# Висновок"
   ]
  },
  {
   "cell_type": "markdown",
   "metadata": {},
   "source": [
    "Судячи з результатів, однозначно можна зробити висновок, що тренування нейронної мережі з валідаційними даними набагато краща, ніж без. На це вказують результати прогнозів моделей. Окрім того, для нашого випадку кращою були моделі 3 і 4, де менша кількість шарів та нейронів."
   ]
  }
 ],
 "metadata": {
  "interpreter": {
   "hash": "20d4b58220fa4304dcb406620d90c329683b80b0f0306872b7d296e3ded4f8f0"
  },
  "kernelspec": {
   "display_name": "Python 3.7.4 64-bit ('base': conda)",
   "name": "python3"
  },
  "language_info": {
   "codemirror_mode": {
    "name": "ipython",
    "version": 3
   },
   "file_extension": ".py",
   "mimetype": "text/x-python",
   "name": "python",
   "nbconvert_exporter": "python",
   "pygments_lexer": "ipython3",
   "version": "3.7.4"
  },
  "orig_nbformat": 4
 },
 "nbformat": 4,
 "nbformat_minor": 2
}
